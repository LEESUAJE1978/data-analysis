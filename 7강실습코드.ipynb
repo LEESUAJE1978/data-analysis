{
  "nbformat": 4,
  "nbformat_minor": 0,
  "metadata": {
    "colab": {
      "name": "7강실습코드.ipynb",
      "provenance": [],
      "authorship_tag": "ABX9TyNxir3LsdCIX8H0hMrndtnz",
      "include_colab_link": true
    },
    "kernelspec": {
      "name": "python3",
      "display_name": "Python 3"
    }
  },
  "cells": [
    {
      "cell_type": "markdown",
      "metadata": {
        "id": "view-in-github",
        "colab_type": "text"
      },
      "source": [
        "<a href=\"https://colab.research.google.com/github/LEESUAJE1978/data-analysis/blob/master/7%EA%B0%95%EC%8B%A4%EC%8A%B5%EC%BD%94%EB%93%9C.ipynb\" target=\"_parent\"><img src=\"https://colab.research.google.com/assets/colab-badge.svg\" alt=\"Open In Colab\"/></a>"
      ]
    },
    {
      "cell_type": "markdown",
      "metadata": {
        "id": "IWqCGD8aNN8d",
        "colab_type": "text"
      },
      "source": [
        "0. 패키지 불러오기"
      ]
    },
    {
      "cell_type": "code",
      "metadata": {
        "id": "GzeWstbcSCKI",
        "colab_type": "code",
        "colab": {}
      },
      "source": [
        "import pandas as pd\n",
        "import numpy as np\n",
        "import matplotlib.pyplot as plt\n",
        "\n"
      ],
      "execution_count": 74,
      "outputs": []
    },
    {
      "cell_type": "markdown",
      "metadata": {
        "id": "ksmaCH2cN_VQ",
        "colab_type": "text"
      },
      "source": [
        "가. 데이터 병합\n",
        "https://pandas.pydata.org/docs/user_guide/merging.html"
      ]
    },
    {
      "cell_type": "markdown",
      "metadata": {
        "id": "50IfF3fvNZ4f",
        "colab_type": "text"
      },
      "source": [
        "1. 데이터 생성하기"
      ]
    },
    {
      "cell_type": "code",
      "metadata": {
        "id": "RK7VSXCzSnYi",
        "colab_type": "code",
        "colab": {
          "base_uri": "https://localhost:8080/",
          "height": 166
        },
        "outputId": "90180a09-55ce-4167-a868-5a2cab20d509"
      },
      "source": [
        "df1 = pd.DataFrame({'A': ['A0', 'A1', 'A2', 'A3'],\n",
        "                    'B': ['B0', 'B1', 'B2', 'B3'],\n",
        "                    'C': ['C0', 'C1', 'C2', 'C3'],\n",
        "                    'D': ['D0', 'D1', 'D2', 'D3']},\n",
        "                    index=[0, 1, 2, 3])\n",
        "df1.head()"
      ],
      "execution_count": 4,
      "outputs": [
        {
          "output_type": "execute_result",
          "data": {
            "text/html": [
              "<div>\n",
              "<style scoped>\n",
              "    .dataframe tbody tr th:only-of-type {\n",
              "        vertical-align: middle;\n",
              "    }\n",
              "\n",
              "    .dataframe tbody tr th {\n",
              "        vertical-align: top;\n",
              "    }\n",
              "\n",
              "    .dataframe thead th {\n",
              "        text-align: right;\n",
              "    }\n",
              "</style>\n",
              "<table border=\"1\" class=\"dataframe\">\n",
              "  <thead>\n",
              "    <tr style=\"text-align: right;\">\n",
              "      <th></th>\n",
              "      <th>A</th>\n",
              "      <th>B</th>\n",
              "      <th>C</th>\n",
              "      <th>D</th>\n",
              "    </tr>\n",
              "  </thead>\n",
              "  <tbody>\n",
              "    <tr>\n",
              "      <th>0</th>\n",
              "      <td>A0</td>\n",
              "      <td>B0</td>\n",
              "      <td>C0</td>\n",
              "      <td>D0</td>\n",
              "    </tr>\n",
              "    <tr>\n",
              "      <th>1</th>\n",
              "      <td>A1</td>\n",
              "      <td>B1</td>\n",
              "      <td>C1</td>\n",
              "      <td>D1</td>\n",
              "    </tr>\n",
              "    <tr>\n",
              "      <th>2</th>\n",
              "      <td>A2</td>\n",
              "      <td>B2</td>\n",
              "      <td>C2</td>\n",
              "      <td>D2</td>\n",
              "    </tr>\n",
              "    <tr>\n",
              "      <th>3</th>\n",
              "      <td>A3</td>\n",
              "      <td>B3</td>\n",
              "      <td>C3</td>\n",
              "      <td>D3</td>\n",
              "    </tr>\n",
              "  </tbody>\n",
              "</table>\n",
              "</div>"
            ],
            "text/plain": [
              "    A   B   C   D\n",
              "0  A0  B0  C0  D0\n",
              "1  A1  B1  C1  D1\n",
              "2  A2  B2  C2  D2\n",
              "3  A3  B3  C3  D3"
            ]
          },
          "metadata": {
            "tags": []
          },
          "execution_count": 4
        }
      ]
    },
    {
      "cell_type": "code",
      "metadata": {
        "id": "Dnwpk3FUSrkw",
        "colab_type": "code",
        "colab": {
          "base_uri": "https://localhost:8080/",
          "height": 166
        },
        "outputId": "98cf8777-11a4-476f-c9de-02d57c136c04"
      },
      "source": [
        "df2 = pd.DataFrame({'A': ['A4', 'A5', 'A6', 'A7'],\n",
        "                    'B': ['B4', 'B5', 'B6', 'B7'],\n",
        "                    'C': ['C4', 'C5', 'C6', 'C7'],\n",
        "                    'D': ['D4', 'D5', 'D6', 'D7']},\n",
        "                    index=[4, 5, 6, 7])\n",
        "df2.head()"
      ],
      "execution_count": 6,
      "outputs": [
        {
          "output_type": "execute_result",
          "data": {
            "text/html": [
              "<div>\n",
              "<style scoped>\n",
              "    .dataframe tbody tr th:only-of-type {\n",
              "        vertical-align: middle;\n",
              "    }\n",
              "\n",
              "    .dataframe tbody tr th {\n",
              "        vertical-align: top;\n",
              "    }\n",
              "\n",
              "    .dataframe thead th {\n",
              "        text-align: right;\n",
              "    }\n",
              "</style>\n",
              "<table border=\"1\" class=\"dataframe\">\n",
              "  <thead>\n",
              "    <tr style=\"text-align: right;\">\n",
              "      <th></th>\n",
              "      <th>A</th>\n",
              "      <th>B</th>\n",
              "      <th>C</th>\n",
              "      <th>D</th>\n",
              "    </tr>\n",
              "  </thead>\n",
              "  <tbody>\n",
              "    <tr>\n",
              "      <th>4</th>\n",
              "      <td>A4</td>\n",
              "      <td>B4</td>\n",
              "      <td>C4</td>\n",
              "      <td>D4</td>\n",
              "    </tr>\n",
              "    <tr>\n",
              "      <th>5</th>\n",
              "      <td>A5</td>\n",
              "      <td>B5</td>\n",
              "      <td>C5</td>\n",
              "      <td>D5</td>\n",
              "    </tr>\n",
              "    <tr>\n",
              "      <th>6</th>\n",
              "      <td>A6</td>\n",
              "      <td>B6</td>\n",
              "      <td>C6</td>\n",
              "      <td>D6</td>\n",
              "    </tr>\n",
              "    <tr>\n",
              "      <th>7</th>\n",
              "      <td>A7</td>\n",
              "      <td>B7</td>\n",
              "      <td>C7</td>\n",
              "      <td>D7</td>\n",
              "    </tr>\n",
              "  </tbody>\n",
              "</table>\n",
              "</div>"
            ],
            "text/plain": [
              "    A   B   C   D\n",
              "4  A4  B4  C4  D4\n",
              "5  A5  B5  C5  D5\n",
              "6  A6  B6  C6  D6\n",
              "7  A7  B7  C7  D7"
            ]
          },
          "metadata": {
            "tags": []
          },
          "execution_count": 6
        }
      ]
    },
    {
      "cell_type": "code",
      "metadata": {
        "id": "zaMAyT_LSwWJ",
        "colab_type": "code",
        "colab": {
          "base_uri": "https://localhost:8080/",
          "height": 166
        },
        "outputId": "e1dbd0fe-cf7d-4c5e-bf15-a29b20f3f0d5"
      },
      "source": [
        "df3 = pd.DataFrame({'A': ['A8', 'A9', 'A10', 'A11'],\n",
        "                    'B': ['B8', 'B9', 'B10', 'B11'],\n",
        "                    'C': ['C8', 'C9', 'C10', 'C11'],\n",
        "                    'D': ['D8', 'D9', 'D10', 'D11']},\n",
        "                          index=[8, 9, 10, 11])\n",
        "df3.head()"
      ],
      "execution_count": 7,
      "outputs": [
        {
          "output_type": "execute_result",
          "data": {
            "text/html": [
              "<div>\n",
              "<style scoped>\n",
              "    .dataframe tbody tr th:only-of-type {\n",
              "        vertical-align: middle;\n",
              "    }\n",
              "\n",
              "    .dataframe tbody tr th {\n",
              "        vertical-align: top;\n",
              "    }\n",
              "\n",
              "    .dataframe thead th {\n",
              "        text-align: right;\n",
              "    }\n",
              "</style>\n",
              "<table border=\"1\" class=\"dataframe\">\n",
              "  <thead>\n",
              "    <tr style=\"text-align: right;\">\n",
              "      <th></th>\n",
              "      <th>A</th>\n",
              "      <th>B</th>\n",
              "      <th>C</th>\n",
              "      <th>D</th>\n",
              "    </tr>\n",
              "  </thead>\n",
              "  <tbody>\n",
              "    <tr>\n",
              "      <th>8</th>\n",
              "      <td>A8</td>\n",
              "      <td>B8</td>\n",
              "      <td>C8</td>\n",
              "      <td>D8</td>\n",
              "    </tr>\n",
              "    <tr>\n",
              "      <th>9</th>\n",
              "      <td>A9</td>\n",
              "      <td>B9</td>\n",
              "      <td>C9</td>\n",
              "      <td>D9</td>\n",
              "    </tr>\n",
              "    <tr>\n",
              "      <th>10</th>\n",
              "      <td>A10</td>\n",
              "      <td>B10</td>\n",
              "      <td>C10</td>\n",
              "      <td>D10</td>\n",
              "    </tr>\n",
              "    <tr>\n",
              "      <th>11</th>\n",
              "      <td>A11</td>\n",
              "      <td>B11</td>\n",
              "      <td>C11</td>\n",
              "      <td>D11</td>\n",
              "    </tr>\n",
              "  </tbody>\n",
              "</table>\n",
              "</div>"
            ],
            "text/plain": [
              "      A    B    C    D\n",
              "8    A8   B8   C8   D8\n",
              "9    A9   B9   C9   D9\n",
              "10  A10  B10  C10  D10\n",
              "11  A11  B11  C11  D11"
            ]
          },
          "metadata": {
            "tags": []
          },
          "execution_count": 7
        }
      ]
    },
    {
      "cell_type": "markdown",
      "metadata": {
        "id": "cDz8MS0qNdob",
        "colab_type": "text"
      },
      "source": [
        "2. 데이터 리스트로 결합하기"
      ]
    },
    {
      "cell_type": "code",
      "metadata": {
        "id": "qQKRa8QlSzJ_",
        "colab_type": "code",
        "colab": {
          "base_uri": "https://localhost:8080/",
          "height": 246
        },
        "outputId": "3019d660-cc8b-4dfb-a30c-684f5c6c83a5"
      },
      "source": [
        "frames = [df1, df2, df3]\n",
        "frames"
      ],
      "execution_count": 13,
      "outputs": [
        {
          "output_type": "execute_result",
          "data": {
            "text/plain": [
              "[    A   B   C   D\n",
              " 0  A0  B0  C0  D0\n",
              " 1  A1  B1  C1  D1\n",
              " 2  A2  B2  C2  D2\n",
              " 3  A3  B3  C3  D3,     A   B   C   D\n",
              " 4  A4  B4  C4  D4\n",
              " 5  A5  B5  C5  D5\n",
              " 6  A6  B6  C6  D6\n",
              " 7  A7  B7  C7  D7,       A    B    C    D\n",
              " 8    A8   B8   C8   D8\n",
              " 9    A9   B9   C9   D9\n",
              " 10  A10  B10  C10  D10\n",
              " 11  A11  B11  C11  D11]"
            ]
          },
          "metadata": {
            "tags": []
          },
          "execution_count": 13
        }
      ]
    },
    {
      "cell_type": "markdown",
      "metadata": {
        "id": "EgZ1sEWINnWy",
        "colab_type": "text"
      },
      "source": [
        "3. 데이터 결합하기\n"
      ]
    },
    {
      "cell_type": "code",
      "metadata": {
        "id": "zRXAU7UOTCgj",
        "colab_type": "code",
        "colab": {}
      },
      "source": [
        "result = pd.concat(frames)\n",
        "result"
      ],
      "execution_count": null,
      "outputs": []
    },
    {
      "cell_type": "markdown",
      "metadata": {
        "id": "O3nsZUG0OH-u",
        "colab_type": "text"
      },
      "source": [
        "나. 데이터 그룹핑"
      ]
    },
    {
      "cell_type": "markdown",
      "metadata": {
        "id": "VHbCQaIFOMKH",
        "colab_type": "text"
      },
      "source": [
        "1. 데이터 생성하기"
      ]
    },
    {
      "cell_type": "code",
      "metadata": {
        "id": "BqspVxQlOKZM",
        "colab_type": "code",
        "colab": {
          "base_uri": "https://localhost:8080/",
          "height": 195
        },
        "outputId": "d1b5d69c-5601-4c43-a17b-b758e22a5722"
      },
      "source": [
        "df = pd.DataFrame([('bird', 'Falconiformes', 389.0),\n",
        "                   ('bird', 'Psittaciformes', 24.0),\n",
        "                   ('mammal', 'Carnivora', 80.2),\n",
        "                   ('mammal', 'Primates', np.nan),\n",
        "                   ('mammal', 'Carnivora', 58)],\n",
        "                  index = ['falcon', 'parrot', 'lion', 'monkey', 'leopard'],\n",
        "                  columns = ['class', 'order', 'max_speed'])\n",
        "df\n",
        "#Falconiforme(매목), Psittaciformes(앵무새류), carnivora(육식류), Primates(영장류)"
      ],
      "execution_count": 21,
      "outputs": [
        {
          "output_type": "execute_result",
          "data": {
            "text/html": [
              "<div>\n",
              "<style scoped>\n",
              "    .dataframe tbody tr th:only-of-type {\n",
              "        vertical-align: middle;\n",
              "    }\n",
              "\n",
              "    .dataframe tbody tr th {\n",
              "        vertical-align: top;\n",
              "    }\n",
              "\n",
              "    .dataframe thead th {\n",
              "        text-align: right;\n",
              "    }\n",
              "</style>\n",
              "<table border=\"1\" class=\"dataframe\">\n",
              "  <thead>\n",
              "    <tr style=\"text-align: right;\">\n",
              "      <th></th>\n",
              "      <th>class</th>\n",
              "      <th>order</th>\n",
              "      <th>max_speed</th>\n",
              "    </tr>\n",
              "  </thead>\n",
              "  <tbody>\n",
              "    <tr>\n",
              "      <th>falcon</th>\n",
              "      <td>bird</td>\n",
              "      <td>Falconiformes</td>\n",
              "      <td>389.0</td>\n",
              "    </tr>\n",
              "    <tr>\n",
              "      <th>parrot</th>\n",
              "      <td>bird</td>\n",
              "      <td>Psittaciformes</td>\n",
              "      <td>24.0</td>\n",
              "    </tr>\n",
              "    <tr>\n",
              "      <th>lion</th>\n",
              "      <td>mammal</td>\n",
              "      <td>Carnivora</td>\n",
              "      <td>80.2</td>\n",
              "    </tr>\n",
              "    <tr>\n",
              "      <th>monkey</th>\n",
              "      <td>mammal</td>\n",
              "      <td>Primates</td>\n",
              "      <td>NaN</td>\n",
              "    </tr>\n",
              "    <tr>\n",
              "      <th>leopard</th>\n",
              "      <td>mammal</td>\n",
              "      <td>Carnivora</td>\n",
              "      <td>58.0</td>\n",
              "    </tr>\n",
              "  </tbody>\n",
              "</table>\n",
              "</div>"
            ],
            "text/plain": [
              "          class           order  max_speed\n",
              "falcon     bird   Falconiformes      389.0\n",
              "parrot     bird  Psittaciformes       24.0\n",
              "lion     mammal       Carnivora       80.2\n",
              "monkey   mammal        Primates        NaN\n",
              "leopard  mammal       Carnivora       58.0"
            ]
          },
          "metadata": {
            "tags": []
          },
          "execution_count": 21
        }
      ]
    },
    {
      "cell_type": "markdown",
      "metadata": {
        "id": "btfrsM3MPETK",
        "colab_type": "text"
      },
      "source": [
        "2. 그룹핑하기 https://pandas.pydata.org/docs/user_guide/groupby.html"
      ]
    },
    {
      "cell_type": "code",
      "metadata": {
        "id": "G242m8cKPHuT",
        "colab_type": "code",
        "colab": {}
      },
      "source": [
        "grouped = df.groupby('class')"
      ],
      "execution_count": 36,
      "outputs": []
    },
    {
      "cell_type": "code",
      "metadata": {
        "id": "PgL9muo5QYtC",
        "colab_type": "code",
        "colab": {
          "base_uri": "https://localhost:8080/",
          "height": 166
        },
        "outputId": "cb4172d2-fc3a-49f1-e74a-5b0283f46b5f"
      },
      "source": [
        "grouped.describe()"
      ],
      "execution_count": 37,
      "outputs": [
        {
          "output_type": "execute_result",
          "data": {
            "text/html": [
              "<div>\n",
              "<style scoped>\n",
              "    .dataframe tbody tr th:only-of-type {\n",
              "        vertical-align: middle;\n",
              "    }\n",
              "\n",
              "    .dataframe tbody tr th {\n",
              "        vertical-align: top;\n",
              "    }\n",
              "\n",
              "    .dataframe thead tr th {\n",
              "        text-align: left;\n",
              "    }\n",
              "\n",
              "    .dataframe thead tr:last-of-type th {\n",
              "        text-align: right;\n",
              "    }\n",
              "</style>\n",
              "<table border=\"1\" class=\"dataframe\">\n",
              "  <thead>\n",
              "    <tr>\n",
              "      <th></th>\n",
              "      <th colspan=\"8\" halign=\"left\">max_speed</th>\n",
              "    </tr>\n",
              "    <tr>\n",
              "      <th></th>\n",
              "      <th>count</th>\n",
              "      <th>mean</th>\n",
              "      <th>std</th>\n",
              "      <th>min</th>\n",
              "      <th>25%</th>\n",
              "      <th>50%</th>\n",
              "      <th>75%</th>\n",
              "      <th>max</th>\n",
              "    </tr>\n",
              "    <tr>\n",
              "      <th>class</th>\n",
              "      <th></th>\n",
              "      <th></th>\n",
              "      <th></th>\n",
              "      <th></th>\n",
              "      <th></th>\n",
              "      <th></th>\n",
              "      <th></th>\n",
              "      <th></th>\n",
              "    </tr>\n",
              "  </thead>\n",
              "  <tbody>\n",
              "    <tr>\n",
              "      <th>bird</th>\n",
              "      <td>2.0</td>\n",
              "      <td>206.5</td>\n",
              "      <td>258.093975</td>\n",
              "      <td>24.0</td>\n",
              "      <td>115.25</td>\n",
              "      <td>206.5</td>\n",
              "      <td>297.75</td>\n",
              "      <td>389.0</td>\n",
              "    </tr>\n",
              "    <tr>\n",
              "      <th>mammal</th>\n",
              "      <td>2.0</td>\n",
              "      <td>69.1</td>\n",
              "      <td>15.697771</td>\n",
              "      <td>58.0</td>\n",
              "      <td>63.55</td>\n",
              "      <td>69.1</td>\n",
              "      <td>74.65</td>\n",
              "      <td>80.2</td>\n",
              "    </tr>\n",
              "  </tbody>\n",
              "</table>\n",
              "</div>"
            ],
            "text/plain": [
              "       max_speed                                                       \n",
              "           count   mean         std   min     25%    50%     75%    max\n",
              "class                                                                  \n",
              "bird         2.0  206.5  258.093975  24.0  115.25  206.5  297.75  389.0\n",
              "mammal       2.0   69.1   15.697771  58.0   63.55   69.1   74.65   80.2"
            ]
          },
          "metadata": {
            "tags": []
          },
          "execution_count": 37
        }
      ]
    },
    {
      "cell_type": "code",
      "metadata": {
        "id": "W0W9uDMqQCUv",
        "colab_type": "code",
        "colab": {}
      },
      "source": [
        "grouped = df.groupby(['class', 'order'])"
      ],
      "execution_count": 38,
      "outputs": []
    },
    {
      "cell_type": "code",
      "metadata": {
        "id": "KjbPM21qQhx7",
        "colab_type": "code",
        "colab": {
          "base_uri": "https://localhost:8080/",
          "height": 225
        },
        "outputId": "e31d86ef-ecf2-49cf-b53e-75603c38cd6a"
      },
      "source": [
        "grouped.describe()"
      ],
      "execution_count": 40,
      "outputs": [
        {
          "output_type": "execute_result",
          "data": {
            "text/html": [
              "<div>\n",
              "<style scoped>\n",
              "    .dataframe tbody tr th:only-of-type {\n",
              "        vertical-align: middle;\n",
              "    }\n",
              "\n",
              "    .dataframe tbody tr th {\n",
              "        vertical-align: top;\n",
              "    }\n",
              "\n",
              "    .dataframe thead tr th {\n",
              "        text-align: left;\n",
              "    }\n",
              "\n",
              "    .dataframe thead tr:last-of-type th {\n",
              "        text-align: right;\n",
              "    }\n",
              "</style>\n",
              "<table border=\"1\" class=\"dataframe\">\n",
              "  <thead>\n",
              "    <tr>\n",
              "      <th></th>\n",
              "      <th></th>\n",
              "      <th colspan=\"8\" halign=\"left\">max_speed</th>\n",
              "    </tr>\n",
              "    <tr>\n",
              "      <th></th>\n",
              "      <th></th>\n",
              "      <th>count</th>\n",
              "      <th>mean</th>\n",
              "      <th>std</th>\n",
              "      <th>min</th>\n",
              "      <th>25%</th>\n",
              "      <th>50%</th>\n",
              "      <th>75%</th>\n",
              "      <th>max</th>\n",
              "    </tr>\n",
              "    <tr>\n",
              "      <th>class</th>\n",
              "      <th>order</th>\n",
              "      <th></th>\n",
              "      <th></th>\n",
              "      <th></th>\n",
              "      <th></th>\n",
              "      <th></th>\n",
              "      <th></th>\n",
              "      <th></th>\n",
              "      <th></th>\n",
              "    </tr>\n",
              "  </thead>\n",
              "  <tbody>\n",
              "    <tr>\n",
              "      <th rowspan=\"2\" valign=\"top\">bird</th>\n",
              "      <th>Falconiformes</th>\n",
              "      <td>1.0</td>\n",
              "      <td>389.0</td>\n",
              "      <td>NaN</td>\n",
              "      <td>389.0</td>\n",
              "      <td>389.00</td>\n",
              "      <td>389.0</td>\n",
              "      <td>389.00</td>\n",
              "      <td>389.0</td>\n",
              "    </tr>\n",
              "    <tr>\n",
              "      <th>Psittaciformes</th>\n",
              "      <td>1.0</td>\n",
              "      <td>24.0</td>\n",
              "      <td>NaN</td>\n",
              "      <td>24.0</td>\n",
              "      <td>24.00</td>\n",
              "      <td>24.0</td>\n",
              "      <td>24.00</td>\n",
              "      <td>24.0</td>\n",
              "    </tr>\n",
              "    <tr>\n",
              "      <th rowspan=\"2\" valign=\"top\">mammal</th>\n",
              "      <th>Carnivora</th>\n",
              "      <td>2.0</td>\n",
              "      <td>69.1</td>\n",
              "      <td>15.697771</td>\n",
              "      <td>58.0</td>\n",
              "      <td>63.55</td>\n",
              "      <td>69.1</td>\n",
              "      <td>74.65</td>\n",
              "      <td>80.2</td>\n",
              "    </tr>\n",
              "    <tr>\n",
              "      <th>Primates</th>\n",
              "      <td>0.0</td>\n",
              "      <td>NaN</td>\n",
              "      <td>NaN</td>\n",
              "      <td>NaN</td>\n",
              "      <td>NaN</td>\n",
              "      <td>NaN</td>\n",
              "      <td>NaN</td>\n",
              "      <td>NaN</td>\n",
              "    </tr>\n",
              "  </tbody>\n",
              "</table>\n",
              "</div>"
            ],
            "text/plain": [
              "                      max_speed                    ...                      \n",
              "                          count   mean        std  ...    50%     75%    max\n",
              "class  order                                       ...                      \n",
              "bird   Falconiformes        1.0  389.0        NaN  ...  389.0  389.00  389.0\n",
              "       Psittaciformes       1.0   24.0        NaN  ...   24.0   24.00   24.0\n",
              "mammal Carnivora            2.0   69.1  15.697771  ...   69.1   74.65   80.2\n",
              "       Primates             0.0    NaN        NaN  ...    NaN     NaN    NaN\n",
              "\n",
              "[4 rows x 8 columns]"
            ]
          },
          "metadata": {
            "tags": []
          },
          "execution_count": 40
        }
      ]
    },
    {
      "cell_type": "markdown",
      "metadata": {
        "id": "Z8ldNY36R8J-",
        "colab_type": "text"
      },
      "source": [
        "다. 시각화(Visualization)\n",
        "https://pandas.pydata.org/docs/user_guide/visualization.html"
      ]
    },
    {
      "cell_type": "markdown",
      "metadata": {
        "id": "JvAUUowccUHa",
        "colab_type": "text"
      },
      "source": [
        "1. 시계열 데이터 그리기\n",
        "\n",
        "1.1. Series 형식"
      ]
    },
    {
      "cell_type": "code",
      "metadata": {
        "id": "LsqV_0I0QisY",
        "colab_type": "code",
        "colab": {
          "base_uri": "https://localhost:8080/",
          "height": 228
        },
        "outputId": "b38f0464-9d25-466d-a225-9989f91f0056"
      },
      "source": [
        "ts = pd.Series(np.random.randn(1000),\n",
        "               index = pd.date_range('1/1/2019', periods = 1000))\n",
        "ts"
      ],
      "execution_count": 59,
      "outputs": [
        {
          "output_type": "execute_result",
          "data": {
            "text/plain": [
              "2019-01-01   -0.655972\n",
              "2019-01-02   -0.355547\n",
              "2019-01-03   -1.310393\n",
              "2019-01-04    0.802628\n",
              "2019-01-05    1.744079\n",
              "                ...   \n",
              "2021-09-22    0.340455\n",
              "2021-09-23   -0.133151\n",
              "2021-09-24    0.149126\n",
              "2021-09-25   -0.319122\n",
              "2021-09-26   -0.848399\n",
              "Freq: D, Length: 1000, dtype: float64"
            ]
          },
          "metadata": {
            "tags": []
          },
          "execution_count": 59
        }
      ]
    },
    {
      "cell_type": "code",
      "metadata": {
        "id": "1a6nB3OiVbGZ",
        "colab_type": "code",
        "colab": {
          "base_uri": "https://localhost:8080/",
          "height": 297
        },
        "outputId": "48ee320c-807c-48e1-f8a3-adc6987c3413"
      },
      "source": [
        "ts.plot()"
      ],
      "execution_count": 48,
      "outputs": [
        {
          "output_type": "execute_result",
          "data": {
            "text/plain": [
              "<matplotlib.axes._subplots.AxesSubplot at 0x7f4277507828>"
            ]
          },
          "metadata": {
            "tags": []
          },
          "execution_count": 48
        },
        {
          "output_type": "display_data",
          "data": {
            "image/png": "[encoded data removed]",
            "text/plain": [
              "<Figure size 432x288 with 1 Axes>"
            ]
          },
          "metadata": {
            "tags": [],
            "needs_background": "light"
          }
        }
      ]
    },
    {
      "cell_type": "code",
      "metadata": {
        "id": "PjZQFQ5xVfD8",
        "colab_type": "code",
        "colab": {
          "base_uri": "https://localhost:8080/",
          "height": 228
        },
        "outputId": "34ca7f5d-ecf6-4add-efc7-452962079bca"
      },
      "source": [
        "ts = ts.cumsum()\n",
        "ts"
      ],
      "execution_count": 60,
      "outputs": [
        {
          "output_type": "execute_result",
          "data": {
            "text/plain": [
              "2019-01-01    -0.655972\n",
              "2019-01-02    -1.011518\n",
              "2019-01-03    -2.321911\n",
              "2019-01-04    -1.519283\n",
              "2019-01-05     0.224796\n",
              "                ...    \n",
              "2021-09-22   -71.346619\n",
              "2021-09-23   -71.479770\n",
              "2021-09-24   -71.330644\n",
              "2021-09-25   -71.649766\n",
              "2021-09-26   -72.498165\n",
              "Freq: D, Length: 1000, dtype: float64"
            ]
          },
          "metadata": {
            "tags": []
          },
          "execution_count": 60
        }
      ]
    },
    {
      "cell_type": "code",
      "metadata": {
        "id": "DTBA7gFdV4Z4",
        "colab_type": "code",
        "colab": {
          "base_uri": "https://localhost:8080/",
          "height": 294
        },
        "outputId": "6cbcdb02-dfee-4194-d5b8-cf53c05345e2"
      },
      "source": [
        "ts.plot()"
      ],
      "execution_count": 62,
      "outputs": [
        {
          "output_type": "execute_result",
          "data": {
            "text/plain": [
              "<matplotlib.axes._subplots.AxesSubplot at 0x7f4275be2898>"
            ]
          },
          "metadata": {
            "tags": []
          },
          "execution_count": 62
        },
        {
          "output_type": "display_data",
          "data": {
            "image/png": "[encoded data removed]",
            "text/plain": [
              "<Figure size 432x288 with 1 Axes>"
            ]
          },
          "metadata": {
            "tags": [],
            "needs_background": "light"
          }
        }
      ]
    },
    {
      "cell_type": "markdown",
      "metadata": {
        "id": "Z3znifxPcYn3",
        "colab_type": "text"
      },
      "source": [
        "1.2. dataframe형식"
      ]
    },
    {
      "cell_type": "code",
      "metadata": {
        "id": "sJFH-TNzcC5E",
        "colab_type": "code",
        "colab": {
          "base_uri": "https://localhost:8080/",
          "height": 402
        },
        "outputId": "e35eff69-e77b-4665-b13b-ed6c1756ecb9"
      },
      "source": [
        "df = pd.DataFrame(np.random.randn(1000,4),\n",
        "                 index = ts.index, columns = list('ABCD'))\n",
        "df"
      ],
      "execution_count": 87,
      "outputs": [
        {
          "output_type": "execute_result",
          "data": {
            "text/html": [
              "<div>\n",
              "<style scoped>\n",
              "    .dataframe tbody tr th:only-of-type {\n",
              "        vertical-align: middle;\n",
              "    }\n",
              "\n",
              "    .dataframe tbody tr th {\n",
              "        vertical-align: top;\n",
              "    }\n",
              "\n",
              "    .dataframe thead th {\n",
              "        text-align: right;\n",
              "    }\n",
              "</style>\n",
              "<table border=\"1\" class=\"dataframe\">\n",
              "  <thead>\n",
              "    <tr style=\"text-align: right;\">\n",
              "      <th></th>\n",
              "      <th>A</th>\n",
              "      <th>B</th>\n",
              "      <th>C</th>\n",
              "      <th>D</th>\n",
              "    </tr>\n",
              "  </thead>\n",
              "  <tbody>\n",
              "    <tr>\n",
              "      <th>2019-01-01</th>\n",
              "      <td>-1.500434</td>\n",
              "      <td>-0.165272</td>\n",
              "      <td>-0.636947</td>\n",
              "      <td>0.579680</td>\n",
              "    </tr>\n",
              "    <tr>\n",
              "      <th>2019-01-02</th>\n",
              "      <td>-1.386853</td>\n",
              "      <td>-0.166695</td>\n",
              "      <td>1.318135</td>\n",
              "      <td>0.987148</td>\n",
              "    </tr>\n",
              "    <tr>\n",
              "      <th>2019-01-03</th>\n",
              "      <td>-1.717263</td>\n",
              "      <td>-0.936477</td>\n",
              "      <td>-1.270277</td>\n",
              "      <td>-0.285116</td>\n",
              "    </tr>\n",
              "    <tr>\n",
              "      <th>2019-01-04</th>\n",
              "      <td>-1.217652</td>\n",
              "      <td>-0.706225</td>\n",
              "      <td>-1.019568</td>\n",
              "      <td>0.753417</td>\n",
              "    </tr>\n",
              "    <tr>\n",
              "      <th>2019-01-05</th>\n",
              "      <td>-1.115760</td>\n",
              "      <td>0.517824</td>\n",
              "      <td>1.131244</td>\n",
              "      <td>-0.882011</td>\n",
              "    </tr>\n",
              "    <tr>\n",
              "      <th>...</th>\n",
              "      <td>...</td>\n",
              "      <td>...</td>\n",
              "      <td>...</td>\n",
              "      <td>...</td>\n",
              "    </tr>\n",
              "    <tr>\n",
              "      <th>2021-09-22</th>\n",
              "      <td>1.226797</td>\n",
              "      <td>-0.237250</td>\n",
              "      <td>0.847940</td>\n",
              "      <td>0.230098</td>\n",
              "    </tr>\n",
              "    <tr>\n",
              "      <th>2021-09-23</th>\n",
              "      <td>0.341908</td>\n",
              "      <td>0.409502</td>\n",
              "      <td>-2.471595</td>\n",
              "      <td>-1.088999</td>\n",
              "    </tr>\n",
              "    <tr>\n",
              "      <th>2021-09-24</th>\n",
              "      <td>-1.024055</td>\n",
              "      <td>-0.643920</td>\n",
              "      <td>-0.875118</td>\n",
              "      <td>0.876609</td>\n",
              "    </tr>\n",
              "    <tr>\n",
              "      <th>2021-09-25</th>\n",
              "      <td>0.569162</td>\n",
              "      <td>0.209846</td>\n",
              "      <td>0.636568</td>\n",
              "      <td>3.725345</td>\n",
              "    </tr>\n",
              "    <tr>\n",
              "      <th>2021-09-26</th>\n",
              "      <td>0.798040</td>\n",
              "      <td>-0.498558</td>\n",
              "      <td>-0.080273</td>\n",
              "      <td>0.339844</td>\n",
              "    </tr>\n",
              "  </tbody>\n",
              "</table>\n",
              "<p>1000 rows × 4 columns</p>\n",
              "</div>"
            ],
            "text/plain": [
              "                   A         B         C         D\n",
              "2019-01-01 -1.500434 -0.165272 -0.636947  0.579680\n",
              "2019-01-02 -1.386853 -0.166695  1.318135  0.987148\n",
              "2019-01-03 -1.717263 -0.936477 -1.270277 -0.285116\n",
              "2019-01-04 -1.217652 -0.706225 -1.019568  0.753417\n",
              "2019-01-05 -1.115760  0.517824  1.131244 -0.882011\n",
              "...              ...       ...       ...       ...\n",
              "2021-09-22  1.226797 -0.237250  0.847940  0.230098\n",
              "2021-09-23  0.341908  0.409502 -2.471595 -1.088999\n",
              "2021-09-24 -1.024055 -0.643920 -0.875118  0.876609\n",
              "2021-09-25  0.569162  0.209846  0.636568  3.725345\n",
              "2021-09-26  0.798040 -0.498558 -0.080273  0.339844\n",
              "\n",
              "[1000 rows x 4 columns]"
            ]
          },
          "metadata": {
            "tags": []
          },
          "execution_count": 87
        }
      ]
    },
    {
      "cell_type": "code",
      "metadata": {
        "id": "lM5wFqwdc0FY",
        "colab_type": "code",
        "colab": {
          "base_uri": "https://localhost:8080/",
          "height": 402
        },
        "outputId": "3aa25c01-e72b-4c95-d03f-338ecc221a0b"
      },
      "source": [
        "df = df.cumsum()\n",
        "df"
      ],
      "execution_count": 88,
      "outputs": [
        {
          "output_type": "execute_result",
          "data": {
            "text/html": [
              "<div>\n",
              "<style scoped>\n",
              "    .dataframe tbody tr th:only-of-type {\n",
              "        vertical-align: middle;\n",
              "    }\n",
              "\n",
              "    .dataframe tbody tr th {\n",
              "        vertical-align: top;\n",
              "    }\n",
              "\n",
              "    .dataframe thead th {\n",
              "        text-align: right;\n",
              "    }\n",
              "</style>\n",
              "<table border=\"1\" class=\"dataframe\">\n",
              "  <thead>\n",
              "    <tr style=\"text-align: right;\">\n",
              "      <th></th>\n",
              "      <th>A</th>\n",
              "      <th>B</th>\n",
              "      <th>C</th>\n",
              "      <th>D</th>\n",
              "    </tr>\n",
              "  </thead>\n",
              "  <tbody>\n",
              "    <tr>\n",
              "      <th>2019-01-01</th>\n",
              "      <td>-1.500434</td>\n",
              "      <td>-0.165272</td>\n",
              "      <td>-0.636947</td>\n",
              "      <td>0.579680</td>\n",
              "    </tr>\n",
              "    <tr>\n",
              "      <th>2019-01-02</th>\n",
              "      <td>-2.887287</td>\n",
              "      <td>-0.331966</td>\n",
              "      <td>0.681188</td>\n",
              "      <td>1.566828</td>\n",
              "    </tr>\n",
              "    <tr>\n",
              "      <th>2019-01-03</th>\n",
              "      <td>-4.604550</td>\n",
              "      <td>-1.268443</td>\n",
              "      <td>-0.589089</td>\n",
              "      <td>1.281712</td>\n",
              "    </tr>\n",
              "    <tr>\n",
              "      <th>2019-01-04</th>\n",
              "      <td>-5.822202</td>\n",
              "      <td>-1.974668</td>\n",
              "      <td>-1.608657</td>\n",
              "      <td>2.035128</td>\n",
              "    </tr>\n",
              "    <tr>\n",
              "      <th>2019-01-05</th>\n",
              "      <td>-6.937962</td>\n",
              "      <td>-1.456844</td>\n",
              "      <td>-0.477413</td>\n",
              "      <td>1.153117</td>\n",
              "    </tr>\n",
              "    <tr>\n",
              "      <th>...</th>\n",
              "      <td>...</td>\n",
              "      <td>...</td>\n",
              "      <td>...</td>\n",
              "      <td>...</td>\n",
              "    </tr>\n",
              "    <tr>\n",
              "      <th>2021-09-22</th>\n",
              "      <td>-43.704653</td>\n",
              "      <td>-28.438896</td>\n",
              "      <td>-18.022940</td>\n",
              "      <td>-13.427765</td>\n",
              "    </tr>\n",
              "    <tr>\n",
              "      <th>2021-09-23</th>\n",
              "      <td>-43.362745</td>\n",
              "      <td>-28.029394</td>\n",
              "      <td>-20.494535</td>\n",
              "      <td>-14.516764</td>\n",
              "    </tr>\n",
              "    <tr>\n",
              "      <th>2021-09-24</th>\n",
              "      <td>-44.386801</td>\n",
              "      <td>-28.673313</td>\n",
              "      <td>-21.369652</td>\n",
              "      <td>-13.640155</td>\n",
              "    </tr>\n",
              "    <tr>\n",
              "      <th>2021-09-25</th>\n",
              "      <td>-43.817639</td>\n",
              "      <td>-28.463467</td>\n",
              "      <td>-20.733084</td>\n",
              "      <td>-9.914810</td>\n",
              "    </tr>\n",
              "    <tr>\n",
              "      <th>2021-09-26</th>\n",
              "      <td>-43.019598</td>\n",
              "      <td>-28.962026</td>\n",
              "      <td>-20.813357</td>\n",
              "      <td>-9.574966</td>\n",
              "    </tr>\n",
              "  </tbody>\n",
              "</table>\n",
              "<p>1000 rows × 4 columns</p>\n",
              "</div>"
            ],
            "text/plain": [
              "                    A          B          C          D\n",
              "2019-01-01  -1.500434  -0.165272  -0.636947   0.579680\n",
              "2019-01-02  -2.887287  -0.331966   0.681188   1.566828\n",
              "2019-01-03  -4.604550  -1.268443  -0.589089   1.281712\n",
              "2019-01-04  -5.822202  -1.974668  -1.608657   2.035128\n",
              "2019-01-05  -6.937962  -1.456844  -0.477413   1.153117\n",
              "...               ...        ...        ...        ...\n",
              "2021-09-22 -43.704653 -28.438896 -18.022940 -13.427765\n",
              "2021-09-23 -43.362745 -28.029394 -20.494535 -14.516764\n",
              "2021-09-24 -44.386801 -28.673313 -21.369652 -13.640155\n",
              "2021-09-25 -43.817639 -28.463467 -20.733084  -9.914810\n",
              "2021-09-26 -43.019598 -28.962026 -20.813357  -9.574966\n",
              "\n",
              "[1000 rows x 4 columns]"
            ]
          },
          "metadata": {
            "tags": []
          },
          "execution_count": 88
        }
      ]
    },
    {
      "cell_type": "code",
      "metadata": {
        "id": "o0gEsK2hc7IG",
        "colab_type": "code",
        "colab": {
          "base_uri": "https://localhost:8080/",
          "height": 279
        },
        "outputId": "9a69a59b-de52-4217-a78c-70463f00e8e2"
      },
      "source": [
        "df.plot()\n",
        "plt.show()"
      ],
      "execution_count": 89,
      "outputs": [
        {
          "output_type": "display_data",
          "data": {
            "image/png": "[encoded data removed]",
            "text/plain": [
              "<Figure size 432x288 with 1 Axes>"
            ]
          },
          "metadata": {
            "tags": [],
            "needs_background": "light"
          }
        }
      ]
    },
    {
      "cell_type": "markdown",
      "metadata": {
        "id": "HHo-Z6LGf8CH",
        "colab_type": "text"
      },
      "source": [
        "bar 그래프 그리기"
      ]
    },
    {
      "cell_type": "code",
      "metadata": {
        "id": "5f4GGEZWdLr4",
        "colab_type": "code",
        "colab": {
          "base_uri": "https://localhost:8080/",
          "height": 281
        },
        "outputId": "bd593312-57b8-422c-b772-0adc635553de"
      },
      "source": [
        "df.iloc[5].plot(kind = 'bar')"
      ],
      "execution_count": 91,
      "outputs": [
        {
          "output_type": "execute_result",
          "data": {
            "text/plain": [
              "<matplotlib.axes._subplots.AxesSubplot at 0x7f4275c00ef0>"
            ]
          },
          "metadata": {
            "tags": []
          },
          "execution_count": 91
        },
        {
          "output_type": "display_data",
          "data": {
            "image/png": "[encoded data removed]",
            "text/plain": [
              "<Figure size 432x288 with 1 Axes>"
            ]
          },
          "metadata": {
            "tags": [],
            "needs_background": "light"
          }
        }
      ]
    },
    {
      "cell_type": "code",
      "metadata": {
        "id": "-Lm2XrUTghR3",
        "colab_type": "code",
        "colab": {
          "base_uri": "https://localhost:8080/",
          "height": 378
        },
        "outputId": "11727945-e942-4a05-866e-4e4a480b3902"
      },
      "source": [
        "df.iloc[1:10,:].plot.bar()"
      ],
      "execution_count": 95,
      "outputs": [
        {
          "output_type": "execute_result",
          "data": {
            "text/plain": [
              "<matplotlib.axes._subplots.AxesSubplot at 0x7f42729eeac8>"
            ]
          },
          "metadata": {
            "tags": []
          },
          "execution_count": 95
        },
        {
          "output_type": "display_data",
          "data": {
            "image/png": "[encoded data removed]",
            "text/plain": [
              "<Figure size 432x288 with 1 Axes>"
            ]
          },
          "metadata": {
            "tags": [],
            "needs_background": "light"
          }
        }
      ]
    },
    {
      "cell_type": "code",
      "metadata": {
        "id": "VlZ7ltORdUGY",
        "colab_type": "code",
        "colab": {
          "base_uri": "https://localhost:8080/",
          "height": 380
        },
        "outputId": "f62f5d86-9b95-4e2d-f3a1-381e85c913d8"
      },
      "source": [
        "df.iloc[1:10,:].plot.bar(stacked = True)"
      ],
      "execution_count": 96,
      "outputs": [
        {
          "output_type": "execute_result",
          "data": {
            "text/plain": [
              "<matplotlib.axes._subplots.AxesSubplot at 0x7f4271d670f0>"
            ]
          },
          "metadata": {
            "tags": []
          },
          "execution_count": 96
        },
        {
          "output_type": "display_data",
          "data": {
            "image/png": "[encoded data removed]",
            "text/plain": [
              "<Figure size 432x288 with 1 Axes>"
            ]
          },
          "metadata": {
            "tags": [],
            "needs_background": "light"
          }
        }
      ]
    },
    {
      "cell_type": "code",
      "metadata": {
        "id": "RSkmD0PFfp6R",
        "colab_type": "code",
        "colab": {
          "base_uri": "https://localhost:8080/",
          "height": 282
        },
        "outputId": "edcf1f7c-ff24-433b-eb87-7e173fb40636"
      },
      "source": [
        "df.iloc[1:10,:].plot.barh(stacked = True)"
      ],
      "execution_count": 97,
      "outputs": [
        {
          "output_type": "execute_result",
          "data": {
            "text/plain": [
              "<matplotlib.axes._subplots.AxesSubplot at 0x7f4271c3a908>"
            ]
          },
          "metadata": {
            "tags": []
          },
          "execution_count": 97
        },
        {
          "output_type": "display_data",
          "data": {
            "image/png": "[encoded data removed]",
            "text/plain": [
              "<Figure size 432x288 with 1 Axes>"
            ]
          },
          "metadata": {
            "tags": [],
            "needs_background": "light"
          }
        }
      ]
    },
    {
      "cell_type": "markdown",
      "metadata": {
        "id": "i4bT0oGDhnpM",
        "colab_type": "text"
      },
      "source": [
        "Historam 그리기"
      ]
    },
    {
      "cell_type": "code",
      "metadata": {
        "id": "ffNTDCQogpcI",
        "colab_type": "code",
        "colab": {
          "base_uri": "https://localhost:8080/",
          "height": 282
        },
        "outputId": "9cbe9673-e610-4bf8-9371-a49612ca5cce"
      },
      "source": [
        "df.iloc[1:10,:].plot.hist()"
      ],
      "execution_count": 98,
      "outputs": [
        {
          "output_type": "execute_result",
          "data": {
            "text/plain": [
              "<matplotlib.axes._subplots.AxesSubplot at 0x7f4271b01320>"
            ]
          },
          "metadata": {
            "tags": []
          },
          "execution_count": 98
        },
        {
          "output_type": "display_data",
          "data": {
            "image/png": "[encoded data removed]",
            "text/plain": [
              "<Figure size 432x288 with 1 Axes>"
            ]
          },
          "metadata": {
            "tags": [],
            "needs_background": "light"
          }
        }
      ]
    },
    {
      "cell_type": "code",
      "metadata": {
        "id": "C5ENtRgwgvjh",
        "colab_type": "code",
        "colab": {
          "base_uri": "https://localhost:8080/",
          "height": 282
        },
        "outputId": "cfce6f47-1040-4b99-c857-773b5e5c46bc"
      },
      "source": [
        "df.iloc[1:10,:].plot.hist(alpha = 0.5)"
      ],
      "execution_count": 99,
      "outputs": [
        {
          "output_type": "execute_result",
          "data": {
            "text/plain": [
              "<matplotlib.axes._subplots.AxesSubplot at 0x7f42719c83c8>"
            ]
          },
          "metadata": {
            "tags": []
          },
          "execution_count": 99
        },
        {
          "output_type": "display_data",
          "data": {
            "image/png": "[encoded data removed]",
            "text/plain": [
              "<Figure size 432x288 with 1 Axes>"
            ]
          },
          "metadata": {
            "tags": [],
            "needs_background": "light"
          }
        }
      ]
    },
    {
      "cell_type": "code",
      "metadata": {
        "id": "47BwBOwog1E0",
        "colab_type": "code",
        "colab": {
          "base_uri": "https://localhost:8080/",
          "height": 282
        },
        "outputId": "6f86fea6-8292-453b-bf14-93eba59be0c6"
      },
      "source": [
        "df.iloc[1:10,:].plot.hist(alpha = 0.5, stacked = True, bins =20)"
      ],
      "execution_count": 100,
      "outputs": [
        {
          "output_type": "execute_result",
          "data": {
            "text/plain": [
              "<matplotlib.axes._subplots.AxesSubplot at 0x7f42718669b0>"
            ]
          },
          "metadata": {
            "tags": []
          },
          "execution_count": 100
        },
        {
          "output_type": "display_data",
          "data": {
            "image/png": "[encoded data removed]",
            "text/plain": [
              "<Figure size 432x288 with 1 Axes>"
            ]
          },
          "metadata": {
            "tags": [],
            "needs_background": "light"
          }
        }
      ]
    },
    {
      "cell_type": "markdown",
      "metadata": {
        "id": "o_w8ZPPchrV4",
        "colab_type": "text"
      },
      "source": [
        "Box plot 그래프 그리기"
      ]
    },
    {
      "cell_type": "code",
      "metadata": {
        "id": "Uv2SGrU_g7jQ",
        "colab_type": "code",
        "colab": {
          "base_uri": "https://localhost:8080/",
          "height": 285
        },
        "outputId": "f829770a-b7ee-4967-85db-ba581d1560b1"
      },
      "source": [
        "df.plot.box()"
      ],
      "execution_count": 101,
      "outputs": [
        {
          "output_type": "execute_result",
          "data": {
            "text/plain": [
              "<matplotlib.axes._subplots.AxesSubplot at 0x7f427182c128>"
            ]
          },
          "metadata": {
            "tags": []
          },
          "execution_count": 101
        },
        {
          "output_type": "display_data",
          "data": {
            "image/png": "[encoded data removed]",
            "text/plain": [
              "<Figure size 432x288 with 1 Axes>"
            ]
          },
          "metadata": {
            "tags": [],
            "needs_background": "light"
          }
        }
      ]
    },
    {
      "cell_type": "code",
      "metadata": {
        "id": "H773wkAehFJB",
        "colab_type": "code",
        "colab": {
          "base_uri": "https://localhost:8080/",
          "height": 285
        },
        "outputId": "1d3d8a12-baeb-439e-8769-3555fe8c9fd7"
      },
      "source": [
        "color = {'boxes': 'DarkGreen', 'whiskers': 'DarkOrange',\n",
        "         'medians': 'DarkBlue', 'caps': 'Gray'}\n",
        "\n",
        "df.plot.box(color =color, sym = 'r+')"
      ],
      "execution_count": 103,
      "outputs": [
        {
          "output_type": "execute_result",
          "data": {
            "text/plain": [
              "<matplotlib.axes._subplots.AxesSubplot at 0x7f42716b4fd0>"
            ]
          },
          "metadata": {
            "tags": []
          },
          "execution_count": 103
        },
        {
          "output_type": "display_data",
          "data": {
            "image/png": "[encoded data removed]",
            "text/plain": [
              "<Figure size 432x288 with 1 Axes>"
            ]
          },
          "metadata": {
            "tags": [],
            "needs_background": "light"
          }
        }
      ]
    },
    {
      "cell_type": "code",
      "metadata": {
        "id": "BHmbt-5FhhvM",
        "colab_type": "code",
        "colab": {}
      },
      "source": [
        ""
      ],
      "execution_count": null,
      "outputs": []
    }
  ]
}