{
  "nbformat": 4,
  "nbformat_minor": 0,
  "metadata": {
    "colab": {
      "name": "11강 실습코드.ipynb",
      "provenance": [],
      "authorship_tag": "ABX9TyN8HV0+y0IfDFVtJunqgdvX",
      "include_colab_link": true
    },
    "kernelspec": {
      "name": "python3",
      "display_name": "Python 3"
    }
  },
  "cells": [
    {
      "cell_type": "markdown",
      "metadata": {
        "id": "view-in-github",
        "colab_type": "text"
      },
      "source": [
        "<a href=\"https://colab.research.google.com/github/LEESUAJE1978/data-analysis/blob/master/11%EA%B0%95_%EC%8B%A4%EC%8A%B5%EC%BD%94%EB%93%9C.ipynb\" target=\"_parent\"><img src=\"https://colab.research.google.com/assets/colab-badge.svg\" alt=\"Open In Colab\"/></a>"
      ]
    },
    {
      "cell_type": "markdown",
      "metadata": {
        "id": "sZhbAiZAJoMr",
        "colab_type": "text"
      },
      "source": [
        "0. 구글드라이브 연동"
      ]
    },
    {
      "cell_type": "code",
      "metadata": {
        "id": "-I_4CS25JnNU",
        "colab_type": "code",
        "colab": {
          "base_uri": "https://localhost:8080/",
          "height": 35
        },
        "outputId": "f2feff50-dccc-418d-c61e-b0c17db5b4fb"
      },
      "source": [
        "from google.colab import drive\n",
        "drive.mount('/content/drive')"
      ],
      "execution_count": 1,
      "outputs": [
        {
          "output_type": "stream",
          "text": [
            "Mounted at /content/drive\n"
          ],
          "name": "stdout"
        }
      ]
    },
    {
      "cell_type": "markdown",
      "metadata": {
        "id": "HCSHQt_rKDo4",
        "colab_type": "text"
      },
      "source": [
        "1. 경로지정\n"
      ]
    },
    {
      "cell_type": "code",
      "metadata": {
        "id": "6_M64wDXJ5bR",
        "colab_type": "code",
        "colab": {
          "base_uri": "https://localhost:8080/",
          "height": 467
        },
        "outputId": "ee4d32f7-095e-4141-d2f1-e0950cb4bc6b"
      },
      "source": [
        "import os\n",
        "os.chdir(\"/content/drive/My Drive/Colab Notebooks\")\n",
        "%ls"
      ],
      "execution_count": 2,
      "outputs": [
        {
          "output_type": "stream",
          "text": [
            " 01.linear_regression.ipynb              'ex03_Linear Regression.ipynb'\n",
            "'10강 실습코드.ipynb'                    'ex04_logistic Regression.ipynb'\n",
            "'6강_다변량 로지스틱 회귀분석.ipynb'     'ex04_Logistic Regression.ipynb'\n",
            " 7강실습코드.ipynb                       'ex05_mutinomial logistic.ipynb'\n",
            "'8강 실습코드.ipynb'                     'ex06_CNN (1).ipynb'\n",
            "'9강 실습코드.ipynb'                      ex06_CNN.ipynb\n",
            " Accidents0515.csv                       'ex07_RNN (1).ipynb'\n",
            "'campus recruit.csv'                      ex07_RNN.ipynb\n",
            " Casualties0515.csv                       logistic_express.ipynb\n",
            " class01.ipynb                           'logistic regression.ipynb'\n",
            " class02.ipynb                            lstm.ipynb\n",
            " class03.ipynb                            pandas-profiling-master.zip\n",
            " class04.ipynb                            statistics.ipynb\n",
            " class05.ipynb                            SWEETVIZ_REPORT.gdoc\n",
            "'Copy of ex01_hello'                      SWEETVIZ_REPORT.html\n",
            " \u001b[0m\u001b[01;34mcovid19-countries-statistical-dataset\u001b[0m/   test_accident.csv\n",
            " \u001b[01;34mdata\u001b[0m/                                    test_dataset.xlsx\n",
            " data-03-diabetes.csv                     Untitled0.ipynb\n",
            " \u001b[01;34mdata1\u001b[0m/                                   Untitled1.ipynb\n",
            " decisionTree.dot                         Untitled2.ipynb\n",
            " decisionTree.png                         Untitled3.ipynb\n",
            " EDA_excercise.ipynb                      Untitled4.ipynb\n",
            " EDA.ipynb                                Untitled5.ipynb\n",
            " ex01_hello                               Untitled6.ipynb\n",
            "'ex02_data type.ipynb'                    Vehicles0515.csv\n"
          ],
          "name": "stdout"
        }
      ]
    },
    {
      "cell_type": "markdown",
      "metadata": {
        "id": "omyWceG9KJhu",
        "colab_type": "text"
      },
      "source": [
        "2. 패키지 불러오기"
      ]
    },
    {
      "cell_type": "code",
      "metadata": {
        "id": "aFBSgSevKHA9",
        "colab_type": "code",
        "colab": {}
      },
      "source": [
        "import pandas as pd\n",
        "from sklearn import datasets  #iris 데이터\n",
        "from sklearn.model_selection import train_test_split\n",
        "from sklearn.ensemble import RandomForestClassifier\n",
        "from sklearn import metrics"
      ],
      "execution_count": 3,
      "outputs": []
    },
    {
      "cell_type": "markdown",
      "metadata": {
        "id": "2aFegTzqMHvE",
        "colab_type": "text"
      },
      "source": [
        "3. iris 데이터 셋 불러오기 및 확인"
      ]
    },
    {
      "cell_type": "code",
      "metadata": {
        "id": "pBsfB0BOKb-B",
        "colab_type": "code",
        "colab": {
          "base_uri": "https://localhost:8080/",
          "height": 89
        },
        "outputId": "63c2e573-3105-4395-f4ed-197cdab49175"
      },
      "source": [
        "if __name__ == '__main__':\n",
        "  iris = datasets.load_iris()\n",
        "  print('아이리스 종류:', iris.target_names)\n",
        "  print('target: [0:setosa, 1:versicolor, 2:virginica]')\n",
        "  print('데이터 수:', len(iris.data))\n",
        "  print('데이터 열 이름:', iris.feature_names)"
      ],
      "execution_count": 8,
      "outputs": [
        {
          "output_type": "stream",
          "text": [
            "아이리스 종류: ['setosa' 'versicolor' 'virginica']\n",
            "target: [0:setosa, 1:versicolor, 2:virginica]\n",
            "데이터 수: 150\n",
            "데이터 열 이름: ['sepal length (cm)', 'sepal width (cm)', 'petal length (cm)', 'petal width (cm)']\n"
          ],
          "name": "stdout"
        }
      ]
    },
    {
      "cell_type": "code",
      "metadata": {
        "id": "BRb6FVx5Le3V",
        "colab_type": "code",
        "colab": {
          "base_uri": "https://localhost:8080/",
          "height": 143
        },
        "outputId": "54701e59-9b60-4364-dd02-18b5e3bc4471"
      },
      "source": [
        "iris.target"
      ],
      "execution_count": 13,
      "outputs": [
        {
          "output_type": "execute_result",
          "data": {
            "text/plain": [
              "array([0, 0, 0, 0, 0, 0, 0, 0, 0, 0, 0, 0, 0, 0, 0, 0, 0, 0, 0, 0, 0, 0,\n",
              "       0, 0, 0, 0, 0, 0, 0, 0, 0, 0, 0, 0, 0, 0, 0, 0, 0, 0, 0, 0, 0, 0,\n",
              "       0, 0, 0, 0, 0, 0, 1, 1, 1, 1, 1, 1, 1, 1, 1, 1, 1, 1, 1, 1, 1, 1,\n",
              "       1, 1, 1, 1, 1, 1, 1, 1, 1, 1, 1, 1, 1, 1, 1, 1, 1, 1, 1, 1, 1, 1,\n",
              "       1, 1, 1, 1, 1, 1, 1, 1, 1, 1, 1, 1, 2, 2, 2, 2, 2, 2, 2, 2, 2, 2,\n",
              "       2, 2, 2, 2, 2, 2, 2, 2, 2, 2, 2, 2, 2, 2, 2, 2, 2, 2, 2, 2, 2, 2,\n",
              "       2, 2, 2, 2, 2, 2, 2, 2, 2, 2, 2, 2, 2, 2, 2, 2, 2, 2])"
            ]
          },
          "metadata": {
            "tags": []
          },
          "execution_count": 13
        }
      ]
    },
    {
      "cell_type": "markdown",
      "metadata": {
        "id": "NJ9P8aJUMMUb",
        "colab_type": "text"
      },
      "source": [
        "4. 데이터 프레임으로 변환"
      ]
    },
    {
      "cell_type": "code",
      "metadata": {
        "id": "ev6KvHs1LgqA",
        "colab_type": "code",
        "colab": {
          "base_uri": "https://localhost:8080/",
          "height": 125
        },
        "outputId": "0be4d701-a331-47f4-f193-676fa7b5a389"
      },
      "source": [
        "data = pd.DataFrame(\n",
        "    {\n",
        "        \"sepal length\": iris.data[:,0],\n",
        "        \"sepal width\": iris.data[:,1],\n",
        "        \"petal length\": iris.data[:,2],\n",
        "        \"petal width\": iris.data[:,3],\n",
        "        \"species\":iris.target\n",
        "     }\n",
        ")\n",
        "print(data.head())"
      ],
      "execution_count": 15,
      "outputs": [
        {
          "output_type": "stream",
          "text": [
            "   sepal length  sepal width  petal length  petal width  species\n",
            "0           5.1          3.5           1.4          0.2        0\n",
            "1           4.9          3.0           1.4          0.2        0\n",
            "2           4.7          3.2           1.3          0.2        0\n",
            "3           4.6          3.1           1.5          0.2        0\n",
            "4           5.0          3.6           1.4          0.2        0\n"
          ],
          "name": "stdout"
        }
      ]
    },
    {
      "cell_type": "markdown",
      "metadata": {
        "id": "4CgBM14lNTA0",
        "colab_type": "text"
      },
      "source": [
        "5. 학습 & 예측 데이터 나누기"
      ]
    },
    {
      "cell_type": "code",
      "metadata": {
        "id": "m8b6wxAlMxWd",
        "colab_type": "code",
        "colab": {}
      },
      "source": [
        "x = data[['sepal length', 'sepal width', 'petal length', 'petal width' ]]\n",
        "y = data['species']"
      ],
      "execution_count": 18,
      "outputs": []
    },
    {
      "cell_type": "code",
      "metadata": {
        "id": "TFXd69zUa5zq",
        "colab_type": "code",
        "colab": {}
      },
      "source": [
        "import numpy as np\n",
        "X = np.array(x)\n",
        "Y= np.array(y)"
      ],
      "execution_count": 56,
      "outputs": []
    },
    {
      "cell_type": "code",
      "metadata": {
        "id": "zEN9_dnsNep4",
        "colab_type": "code",
        "colab": {}
      },
      "source": [
        "x_train, x_test, y_train, y_test = train_test_split(x, y, test_size = 0.3)"
      ],
      "execution_count": 28,
      "outputs": []
    },
    {
      "cell_type": "code",
      "metadata": {
        "id": "NMR3sC6vNhDI",
        "colab_type": "code",
        "colab": {
          "base_uri": "https://localhost:8080/",
          "height": 53
        },
        "outputId": "4d78e5b3-a0f8-4f6b-fa5f-78c9f8cb4e9e"
      },
      "source": [
        "print(len(x_train), len(x_test))\n",
        "print(len(y_train), len(y_test))"
      ],
      "execution_count": 29,
      "outputs": [
        {
          "output_type": "stream",
          "text": [
            "105 45\n",
            "105 45\n"
          ],
          "name": "stdout"
        }
      ]
    },
    {
      "cell_type": "code",
      "metadata": {
        "id": "Z4qFKMg5N4DD",
        "colab_type": "code",
        "colab": {
          "base_uri": "https://localhost:8080/",
          "height": 161
        },
        "outputId": "e2964811-f2b1-4707-c000-97437946b777"
      },
      "source": [
        "forest = RandomForestClassifier(n_estimators=5, random_state=2) #n_estimators: number of tree in the forest,default 100, gini impurity, information gain 참고: https://tensorflow.blog/tag/gini-impurity/, max_depth: maxium depth of tree, default none, min_samples_split:\n",
        "forest.fit(x_train, y_train)"
      ],
      "execution_count": 39,
      "outputs": [
        {
          "output_type": "execute_result",
          "data": {
            "text/plain": [
              "RandomForestClassifier(bootstrap=True, ccp_alpha=0.0, class_weight=None,\n",
              "                       criterion='gini', max_depth=15, max_features='auto',\n",
              "                       max_leaf_nodes=None, max_samples=None,\n",
              "                       min_impurity_decrease=0.0, min_impurity_split=None,\n",
              "                       min_samples_leaf=1, min_samples_split=10,\n",
              "                       min_weight_fraction_leaf=0.0, n_estimators=100,\n",
              "                       n_jobs=None, oob_score=False, random_state=None,\n",
              "                       verbose=0, warm_start=False)"
            ]
          },
          "metadata": {
            "tags": []
          },
          "execution_count": 39
        }
      ]
    },
    {
      "cell_type": "code",
      "metadata": {
        "id": "SzsoCEJuSQMQ",
        "colab_type": "code",
        "colab": {
          "base_uri": "https://localhost:8080/",
          "height": 53
        },
        "outputId": "ed9d8054-2813-490f-959f-79335058d648"
      },
      "source": [
        "y_pred = forest.predict(x_test)\n",
        "print(list(y_test))\n",
        "print(list(y_pred))"
      ],
      "execution_count": 40,
      "outputs": [
        {
          "output_type": "stream",
          "text": [
            "[1, 2, 0, 0, 2, 0, 1, 1, 1, 2, 0, 0, 0, 0, 0, 1, 1, 1, 0, 0, 1, 2, 2, 0, 0, 2, 2, 0, 0, 1, 0, 0, 0, 2, 0, 2, 2, 2, 2, 0, 1, 2, 2, 2, 0]\n",
            "[1, 2, 0, 0, 2, 0, 1, 1, 1, 2, 0, 0, 0, 0, 0, 1, 1, 1, 0, 0, 1, 2, 1, 0, 0, 2, 2, 0, 0, 1, 0, 0, 0, 2, 0, 2, 2, 2, 2, 0, 1, 2, 2, 2, 0]\n"
          ],
          "name": "stdout"
        }
      ]
    },
    {
      "cell_type": "markdown",
      "metadata": {
        "id": "kRClX57jSuXb",
        "colab_type": "text"
      },
      "source": [
        "6. 정확도 확인"
      ]
    },
    {
      "cell_type": "code",
      "metadata": {
        "id": "E4mh21rHSZBD",
        "colab_type": "code",
        "colab": {
          "base_uri": "https://localhost:8080/",
          "height": 35
        },
        "outputId": "81e54d33-4653-4c24-cf6c-f27fda6c5271"
      },
      "source": [
        "print('정확도:', metrics.accuracy_score(y_test, y_pred))"
      ],
      "execution_count": 41,
      "outputs": [
        {
          "output_type": "stream",
          "text": [
            "정확도: 0.9777777777777777\n"
          ],
          "name": "stdout"
        }
      ]
    },
    {
      "cell_type": "markdown",
      "metadata": {
        "id": "35jdLJLLdDiH",
        "colab_type": "text"
      },
      "source": [
        "7. 변수 중요도 시각화"
      ]
    },
    {
      "cell_type": "code",
      "metadata": {
        "id": "POdcZxVRS1y6",
        "colab_type": "code",
        "colab": {
          "base_uri": "https://localhost:8080/",
          "height": 35
        },
        "outputId": "bf5a4e6d-ffa1-46c1-b802-b35ed58a875d"
      },
      "source": [
        "print(forest.feature_importances_)"
      ],
      "execution_count": 42,
      "outputs": [
        {
          "output_type": "stream",
          "text": [
            "[0.07105285 0.02135286 0.43972859 0.4678657 ]\n"
          ],
          "name": "stdout"
        }
      ]
    },
    {
      "cell_type": "markdown",
      "metadata": {
        "id": "Uz9c8u3OdGvM",
        "colab_type": "text"
      },
      "source": [
        "#mglearn 패키지 설치"
      ]
    },
    {
      "cell_type": "code",
      "metadata": {
        "id": "z_qugnfMZ0tS",
        "colab_type": "code",
        "colab": {
          "base_uri": "https://localhost:8080/",
          "height": 449
        },
        "outputId": "59a4a0c6-001c-45ee-eda8-37bb8d436f94"
      },
      "source": [
        "!pip install mglearn"
      ],
      "execution_count": 46,
      "outputs": [
        {
          "output_type": "stream",
          "text": [
            "Collecting mglearn\n",
            "\u001b[?25l  Downloading https://files.pythonhosted.org/packages/65/38/8aced26fce0b2ae82c3c87cd3b6105f38ca6d9d51704ecc44aa54473e6b9/mglearn-0.1.9.tar.gz (540kB)\n",
            "\r\u001b[K     |▋                               | 10kB 16.8MB/s eta 0:00:01\r\u001b[K     |█▏                              | 20kB 6.2MB/s eta 0:00:01\r\u001b[K     |█▉                              | 30kB 6.9MB/s eta 0:00:01\r\u001b[K     |██▍                             | 40kB 7.9MB/s eta 0:00:01\r\u001b[K     |███                             | 51kB 6.4MB/s eta 0:00:01\r\u001b[K     |███▋                            | 61kB 6.8MB/s eta 0:00:01\r\u001b[K     |████▎                           | 71kB 6.9MB/s eta 0:00:01\r\u001b[K     |████▉                           | 81kB 6.8MB/s eta 0:00:01\r\u001b[K     |█████▌                          | 92kB 7.1MB/s eta 0:00:01\r\u001b[K     |██████                          | 102kB 7.2MB/s eta 0:00:01\r\u001b[K     |██████▊                         | 112kB 7.2MB/s eta 0:00:01\r\u001b[K     |███████▎                        | 122kB 7.2MB/s eta 0:00:01\r\u001b[K     |███████▉                        | 133kB 7.2MB/s eta 0:00:01\r\u001b[K     |████████▌                       | 143kB 7.2MB/s eta 0:00:01\r\u001b[K     |█████████                       | 153kB 7.2MB/s eta 0:00:01\r\u001b[K     |█████████▊                      | 163kB 7.2MB/s eta 0:00:01\r\u001b[K     |██████████▎                     | 174kB 7.2MB/s eta 0:00:01\r\u001b[K     |███████████                     | 184kB 7.2MB/s eta 0:00:01\r\u001b[K     |███████████▌                    | 194kB 7.2MB/s eta 0:00:01\r\u001b[K     |████████████▏                   | 204kB 7.2MB/s eta 0:00:01\r\u001b[K     |████████████▊                   | 215kB 7.2MB/s eta 0:00:01\r\u001b[K     |█████████████▍                  | 225kB 7.2MB/s eta 0:00:01\r\u001b[K     |██████████████                  | 235kB 7.2MB/s eta 0:00:01\r\u001b[K     |██████████████▋                 | 245kB 7.2MB/s eta 0:00:01\r\u001b[K     |███████████████▏                | 256kB 7.2MB/s eta 0:00:01\r\u001b[K     |███████████████▊                | 266kB 7.2MB/s eta 0:00:01\r\u001b[K     |████████████████▍               | 276kB 7.2MB/s eta 0:00:01\r\u001b[K     |█████████████████               | 286kB 7.2MB/s eta 0:00:01\r\u001b[K     |█████████████████▋              | 296kB 7.2MB/s eta 0:00:01\r\u001b[K     |██████████████████▏             | 307kB 7.2MB/s eta 0:00:01\r\u001b[K     |██████████████████▉             | 317kB 7.2MB/s eta 0:00:01\r\u001b[K     |███████████████████▍            | 327kB 7.2MB/s eta 0:00:01\r\u001b[K     |████████████████████            | 337kB 7.2MB/s eta 0:00:01\r\u001b[K     |████████████████████▋           | 348kB 7.2MB/s eta 0:00:01\r\u001b[K     |█████████████████████▎          | 358kB 7.2MB/s eta 0:00:01\r\u001b[K     |█████████████████████▉          | 368kB 7.2MB/s eta 0:00:01\r\u001b[K     |██████████████████████▌         | 378kB 7.2MB/s eta 0:00:01\r\u001b[K     |███████████████████████         | 389kB 7.2MB/s eta 0:00:01\r\u001b[K     |███████████████████████▋        | 399kB 7.2MB/s eta 0:00:01\r\u001b[K     |████████████████████████▎       | 409kB 7.2MB/s eta 0:00:01\r\u001b[K     |████████████████████████▉       | 419kB 7.2MB/s eta 0:00:01\r\u001b[K     |█████████████████████████▌      | 430kB 7.2MB/s eta 0:00:01\r\u001b[K     |██████████████████████████      | 440kB 7.2MB/s eta 0:00:01\r\u001b[K     |██████████████████████████▊     | 450kB 7.2MB/s eta 0:00:01\r\u001b[K     |███████████████████████████▎    | 460kB 7.2MB/s eta 0:00:01\r\u001b[K     |████████████████████████████    | 471kB 7.2MB/s eta 0:00:01\r\u001b[K     |████████████████████████████▌   | 481kB 7.2MB/s eta 0:00:01\r\u001b[K     |█████████████████████████████▏  | 491kB 7.2MB/s eta 0:00:01\r\u001b[K     |█████████████████████████████▊  | 501kB 7.2MB/s eta 0:00:01\r\u001b[K     |██████████████████████████████▍ | 512kB 7.2MB/s eta 0:00:01\r\u001b[K     |███████████████████████████████ | 522kB 7.2MB/s eta 0:00:01\r\u001b[K     |███████████████████████████████▌| 532kB 7.2MB/s eta 0:00:01\r\u001b[K     |████████████████████████████████| 542kB 7.2MB/s \n",
            "\u001b[?25hRequirement already satisfied: numpy in /usr/local/lib/python3.6/dist-packages (from mglearn) (1.18.5)\n",
            "Requirement already satisfied: matplotlib in /usr/local/lib/python3.6/dist-packages (from mglearn) (3.2.2)\n",
            "Requirement already satisfied: scikit-learn in /usr/local/lib/python3.6/dist-packages (from mglearn) (0.22.2.post1)\n",
            "Requirement already satisfied: pandas in /usr/local/lib/python3.6/dist-packages (from mglearn) (1.0.5)\n",
            "Requirement already satisfied: pillow in /usr/local/lib/python3.6/dist-packages (from mglearn) (7.0.0)\n",
            "Requirement already satisfied: cycler in /usr/local/lib/python3.6/dist-packages (from mglearn) (0.10.0)\n",
            "Requirement already satisfied: imageio in /usr/local/lib/python3.6/dist-packages (from mglearn) (2.4.1)\n",
            "Requirement already satisfied: joblib in /usr/local/lib/python3.6/dist-packages (from mglearn) (0.16.0)\n",
            "Requirement already satisfied: kiwisolver>=1.0.1 in /usr/local/lib/python3.6/dist-packages (from matplotlib->mglearn) (1.2.0)\n",
            "Requirement already satisfied: python-dateutil>=2.1 in /usr/local/lib/python3.6/dist-packages (from matplotlib->mglearn) (2.8.1)\n",
            "Requirement already satisfied: pyparsing!=2.0.4,!=2.1.2,!=2.1.6,>=2.0.1 in /usr/local/lib/python3.6/dist-packages (from matplotlib->mglearn) (2.4.7)\n",
            "Requirement already satisfied: scipy>=0.17.0 in /usr/local/lib/python3.6/dist-packages (from scikit-learn->mglearn) (1.4.1)\n",
            "Requirement already satisfied: pytz>=2017.2 in /usr/local/lib/python3.6/dist-packages (from pandas->mglearn) (2018.9)\n",
            "Requirement already satisfied: six in /usr/local/lib/python3.6/dist-packages (from cycler->mglearn) (1.15.0)\n",
            "Building wheels for collected packages: mglearn\n",
            "  Building wheel for mglearn (setup.py) ... \u001b[?25l\u001b[?25hdone\n",
            "  Created wheel for mglearn: filename=mglearn-0.1.9-py2.py3-none-any.whl size=582639 sha256=bfe0d671856c90a9b41dbdfdd15b1abe5cfddbb8f3694c74ebdfd1091970318e\n",
            "  Stored in directory: /root/.cache/pip/wheels/eb/a6/ea/a6a3716233fa62fc561259b5cb1e28f79e9ff3592c0adac5f0\n",
            "Successfully built mglearn\n",
            "Installing collected packages: mglearn\n",
            "Successfully installed mglearn-0.1.9\n"
          ],
          "name": "stdout"
        }
      ]
    },
    {
      "cell_type": "code",
      "metadata": {
        "id": "RaDAzl7QZrbj",
        "colab_type": "code",
        "colab": {}
      },
      "source": [
        "import matplotlib.pyplot as plt\n",
        "import mglearn"
      ],
      "execution_count": 47,
      "outputs": []
    },
    {
      "cell_type": "markdown",
      "metadata": {
        "id": "jGghIg1ndQQq",
        "colab_type": "text"
      },
      "source": [
        "8. 시각화 함수 정의"
      ]
    },
    {
      "cell_type": "code",
      "metadata": {
        "id": "cpz65R74ZoTX",
        "colab_type": "code",
        "colab": {}
      },
      "source": [
        "def plot_feature_importance(model):\n",
        "  n_features = iris.data.shape[1]\n",
        "  plt.barh(range(n_features), model.feature_importances_, align = 'center')\n",
        "  plt.yticks(np.arange(n_features), iris.feature_names)\n",
        "  plt.xlabel(\"attr importances\")\n",
        "  plt.ylabel(\"attr\")\n",
        "  plt.ylim(-1, n_features)\n",
        "plt.show()"
      ],
      "execution_count": 76,
      "outputs": []
    },
    {
      "cell_type": "code",
      "metadata": {
        "id": "MTFl59pibg-q",
        "colab_type": "code",
        "colab": {
          "base_uri": "https://localhost:8080/",
          "height": 279
        },
        "outputId": "2f85b716-9c91-41f0-978b-79646bb909f0"
      },
      "source": [
        "plot_feature_importance(forest)"
      ],
      "execution_count": 77,
      "outputs": [
        {
          "output_type": "display_data",
          "data": {
            "image/png": "[encoded data removed]",
            "text/plain": [
              "<Figure size 432x288 with 1 Axes>"
            ]
          },
          "metadata": {
            "tags": [],
            "needs_background": "light"
          }
        }
      ]
    }
  ]
}