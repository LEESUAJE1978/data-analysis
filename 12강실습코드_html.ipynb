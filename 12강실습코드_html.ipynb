{
  "nbformat": 4,
  "nbformat_minor": 0,
  "metadata": {
    "colab": {
      "name": "12강실습코드_html.ipynb",
      "provenance": [],
      "authorship_tag": "ABX9TyOd8sxWYSW/mAcfrWQs5E1a",
      "include_colab_link": true
    },
    "kernelspec": {
      "name": "python3",
      "display_name": "Python 3"
    }
  },
  "cells": [
    {
      "cell_type": "markdown",
      "metadata": {
        "id": "view-in-github",
        "colab_type": "text"
      },
      "source": [
        "<a href=\"https://colab.research.google.com/github/LEESUAJE1978/data-analysis/blob/master/12%EA%B0%95%EC%8B%A4%EC%8A%B5%EC%BD%94%EB%93%9C_html.ipynb\" target=\"_parent\"><img src=\"https://colab.research.google.com/assets/colab-badge.svg\" alt=\"Open In Colab\"/></a>"
      ]
    },
    {
      "cell_type": "markdown",
      "metadata": {
        "id": "HUmCHK4hdVkZ"
      },
      "source": [
        "0.구글 드라이브 연결"
      ]
    },
    {
      "cell_type": "code",
      "metadata": {
        "id": "4eOnYzhmlA6F",
        "outputId": "82b34f8a-aeb6-4e12-af7b-456957b227f7",
        "colab": {
          "base_uri": "https://localhost:8080/",
          "height": 35
        }
      },
      "source": [
        "from google.colab import drive\n",
        "drive.mount('/content/drive')"
      ],
      "execution_count": 1,
      "outputs": [
        {
          "output_type": "stream",
          "text": [
            "Mounted at /content/drive\n"
          ],
          "name": "stdout"
        }
      ]
    },
    {
      "cell_type": "markdown",
      "metadata": {
        "id": "xiRPGYBKdZFB"
      },
      "source": [
        "1. 경로설정"
      ]
    },
    {
      "cell_type": "code",
      "metadata": {
        "id": "gum_kTd_lI9A"
      },
      "source": [
        "import os\n",
        "os.chdir(\"/content/drive/My Drive/Colab Notebooks\")\n",
        "%ls"
      ],
      "execution_count": null,
      "outputs": []
    },
    {
      "cell_type": "markdown",
      "metadata": {
        "id": "zH-I2KGqdfyj"
      },
      "source": [
        "2. BeautifulSoup 불러오기"
      ]
    },
    {
      "cell_type": "code",
      "metadata": {
        "id": "AOorPfPTii1D"
      },
      "source": [
        "from bs4 import BeautifulSoup "
      ],
      "execution_count": 3,
      "outputs": []
    },
    {
      "cell_type": "markdown",
      "metadata": {
        "id": "ROPQrqgdmUvE"
      },
      "source": [
        "3. Beautifulsoup을 이용해서 html 파일 열기"
      ]
    },
    {
      "cell_type": "code",
      "metadata": {
        "id": "oHSn6B7rlWX6"
      },
      "source": [
        "with open(\"example.html\") as fp:\n",
        "  soup = BeautifulSoup(fp, 'html.parser')"
      ],
      "execution_count": 4,
      "outputs": []
    },
    {
      "cell_type": "code",
      "metadata": {
        "id": "zxvAuqPtlfk8"
      },
      "source": [
        "soup"
      ],
      "execution_count": null,
      "outputs": []
    },
    {
      "cell_type": "markdown",
      "metadata": {
        "id": "jR5hsjl1cYp4"
      },
      "source": [
        "4. find_all(): 해당조건에 맞는 모든 태그들을 가져온다"
      ]
    },
    {
      "cell_type": "code",
      "metadata": {
        "id": "wA4NZMCQwrtG",
        "outputId": "79cba7f9-e399-4f6f-d4e1-a692a378a573",
        "colab": {
          "base_uri": "https://localhost:8080/",
          "height": 251
        }
      },
      "source": [
        "with open(\"example.html\") as fp:\n",
        "  soup = BeautifulSoup(fp, \"html.parser\")\n",
        "  all_divs = soup.find_all(\"div\")\n",
        "  print(all_divs)"
      ],
      "execution_count": 14,
      "outputs": [
        {
          "output_type": "stream",
          "text": [
            "[<div>\n",
            "<p>a</p>\n",
            "<p>b</p>\n",
            "<p>c</p>\n",
            "</div>, <div class=\"ex_class\">\n",
            "<p>d</p>\n",
            "<p>e</p>\n",
            "<p>f</p>\n",
            "</div>, <div id=\"ex_id\">\n",
            "<p>g</p>\n",
            "<p>h</p>\n",
            "<p>i</p>\n",
            "</div>]\n"
          ],
          "name": "stdout"
        }
      ]
    },
    {
      "cell_type": "markdown",
      "metadata": {
        "id": "apHn1uFN2_6o"
      },
      "source": [
        "5. find( ): 해당 조건에 맞는 하나의 태그 호출, 중복이면 첫 번째 태그만 호출"
      ]
    },
    {
      "cell_type": "code",
      "metadata": {
        "id": "hiR9jqUG28cM",
        "outputId": "964bbf4d-59c3-4f1b-c7be-b6f1a54532ac",
        "colab": {
          "base_uri": "https://localhost:8080/",
          "height": 107
        }
      },
      "source": [
        "with open(\"example.html\") as fp:\n",
        "  soup = BeautifulSoup(fp, \"html.parser\")\n",
        "  first_div = soup.find('div')\n",
        "  print(first_div)\n"
      ],
      "execution_count": null,
      "outputs": [
        {
          "output_type": "stream",
          "text": [
            "<div>\n",
            "<p>a</p>\n",
            "<p>b</p>\n",
            "<p>c</p>\n",
            "</div>\n"
          ],
          "name": "stdout"
        }
      ]
    },
    {
      "cell_type": "markdown",
      "metadata": {
        "id": "0vQ3GoT53gE4"
      },
      "source": [
        "6. p 태그를 호출하기"
      ]
    },
    {
      "cell_type": "code",
      "metadata": {
        "id": "Q-iAeWXt3bKT",
        "outputId": "85bc8d94-2ec7-42ba-f0d0-14955a5d0d76",
        "colab": {
          "base_uri": "https://localhost:8080/",
          "height": 35
        }
      },
      "source": [
        "with open(\"example.html\") as fp:\n",
        "  soup = BeautifulSoup(fp, \"html.parser\")\n",
        "  all_ps = soup.find_all('p')\n",
        "  print(all_ps)\n"
      ],
      "execution_count": 15,
      "outputs": [
        {
          "output_type": "stream",
          "text": [
            "[<p>a</p>, <p>b</p>, <p>c</p>, <p>d</p>, <p>e</p>, <p>f</p>, <p>g</p>, <p>h</p>, <p>i</p>, <p>This is a paragraph.</p>, <p>This is another paragraph.</p>]\n"
          ],
          "name": "stdout"
        }
      ]
    },
    {
      "cell_type": "markdown",
      "metadata": {
        "id": "VWt4ce2X4Ko0"
      },
      "source": [
        "7. 태그와 속성을 이용해서 가져오기<p>\n",
        "태그와 속성을 이용할 때 함수의 인자로 원하는 태그를 첫 번째 인자로 그 다음에 속성:값을 dictionary 형태로 입력\n",
        "find_all('태그명',{'속성명':'값'})\n",
        "find('태그명', {'속성명':'값'...})\n"
      ]
    },
    {
      "cell_type": "code",
      "metadata": {
        "id": "6HcxYcJB3zQJ",
        "outputId": "3793855f-e7bc-4398-c34c-7d70001a6f28",
        "colab": {
          "base_uri": "https://localhost:8080/",
          "height": 107
        }
      },
      "source": [
        "with open('example.html') as fp:\n",
        "  soup = BeautifulSoup(fp, \"html.parser\")\n",
        "  ex_id_divs = soup.find('div',{'id':'ex_id'})\n",
        "  print(ex_id_divs)"
      ],
      "execution_count": 16,
      "outputs": [
        {
          "output_type": "stream",
          "text": [
            "<div id=\"ex_id\">\n",
            "<p>g</p>\n",
            "<p>h</p>\n",
            "<p>i</p>\n",
            "</div>\n"
          ],
          "name": "stdout"
        }
      ]
    },
    {
      "cell_type": "markdown",
      "metadata": {
        "id": "XhbZcfAm5VPl"
      },
      "source": [
        "8. id 속성 값이 ex_id인 div 태그에서 p 태그만 호출"
      ]
    },
    {
      "cell_type": "code",
      "metadata": {
        "id": "l7p_t7Y_4f2e",
        "outputId": "665cd47f-e390-4b76-f4c8-c259a5cd2a8f",
        "colab": {
          "base_uri": "https://localhost:8080/",
          "height": 35
        }
      },
      "source": [
        "with open('example.html') as fp:\n",
        "  soup = BeautifulSoup(fp, 'html.parser')\n",
        "  ex_id_divs = soup.find('div',{'id':'ex_id'})\n",
        "  all_ps_in_ex_id_divs = ex_id_divs.find_all(\"p\")\n",
        "  print(all_ps_in_ex_id_divs)"
      ],
      "execution_count": null,
      "outputs": [
        {
          "output_type": "stream",
          "text": [
            "[<p>g</p>, <p>h</p>, <p>i</p>]\n"
          ],
          "name": "stdout"
        }
      ]
    },
    {
      "cell_type": "markdown",
      "metadata": {
        "id": "89d6njWQcEnt"
      },
      "source": [
        "9. urllib를 통해 웹에 있는 소스 가져오기"
      ]
    },
    {
      "cell_type": "code",
      "metadata": {
        "id": "8QtiSILh5TEG"
      },
      "source": [
        "import urllib.request #The urllib.request module defines functions and classes which help in opening URLs (mostly HTTP) in a complex world — basic and digest authentication, redirections, cookies and more.\n",
        "import urllib.parse #The urllib.parse module defines functions that fall into two broad categories: URL parsing and URL quoting. "
      ],
      "execution_count": null,
      "outputs": []
    },
    {
      "cell_type": "code",
      "metadata": {
        "id": "H6wT6F2pcOGx"
      },
      "source": [
        "with urllib.request.urlopen('https://www.youtube.com') as response:\n",
        "  html = response.read()\n",
        "  soup = BeautifulSoup(html, 'html.parser')"
      ],
      "execution_count": null,
      "outputs": []
    },
    {
      "cell_type": "markdown",
      "metadata": {
        "id": "BfgQDN1W5dtW"
      },
      "source": [
        "코드 출처 \n",
        "https://twpower.github.io/84-how-to-use-beautiful-soup"
      ]
    }
  ]
}